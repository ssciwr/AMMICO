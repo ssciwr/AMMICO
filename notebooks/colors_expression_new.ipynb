{
 "cells": [
  {
   "cell_type": "markdown",
   "metadata": {},
   "source": [
    "This notebook shows primary color analysis of color image using K-Means algorithm.\n",
    "The output are N primary colors and their corresponding percentage."
   ]
  },
  {
   "cell_type": "code",
   "execution_count": null,
   "metadata": {},
   "outputs": [],
   "source": [
    "import matplotlib.pyplot as plt\n",
    "import cv2\n",
    "import numpy as np\n",
    "\n",
    "import webcolors\n",
    "from sklearn.metrics import mean_squared_error\n",
    "import pandas as pd\n",
    "import plotly.express as px\n",
    "import colorgram\n",
    "from colormath.color_diff import delta_e_cie2000, delta_e_cmc, delta_e_cie1976\n",
    "from colormath.color_objects import sRGBColor, LabColor\n",
    "from colormath.color_conversions import convert_color\n",
    "\n",
    "from ammico.utils import get_color_table\n"
   ]
  },
  {
   "cell_type": "code",
   "execution_count": null,
   "metadata": {},
   "outputs": [],
   "source": [
    "def rgb2name(c, merge_color=True):\n",
    "    h_color = \"#{:02x}{:02x}{:02x}\".format(int(c[0]), int(c[1]), int(c[2]))\n",
    "    try:\n",
    "        output_color = webcolors.hex_to_name(h_color, spec=\"css3\")\n",
    "        output_diff = 0\n",
    "    except ValueError:\n",
    "        delta_e_lst = []\n",
    "        filtered_colors = webcolors.CSS3_NAMES_TO_HEX\n",
    "        c1 = convert_color(sRGBColor(c[0], c[1], c[2]), LabColor)\n",
    "\n",
    "        for img_clr, img_hex in filtered_colors.items():\n",
    "            cur_clr = webcolors.hex_to_rgb(img_hex)\n",
    "\n",
    "            # calculate color Delta-E\n",
    "            c2 = convert_color(sRGBColor(cur_clr[0], cur_clr[1], cur_clr[2]), LabColor)\n",
    "\n",
    "            delta_e = delta_e_cmc(c1, c2)\n",
    "\n",
    "            delta_e_lst.append(delta_e)\n",
    "\n",
    "        # find lowest dealta-e\n",
    "        min_diff = np.argsort(delta_e_lst)[0]\n",
    "\n",
    "        # if the difference is more than 1, then pick only the first one.\n",
    "        output_color = (\n",
    "            str(list(filtered_colors.items())[min_diff][0])\n",
    "            .lower()\n",
    "            .replace(\"grey\", \"gray\")\n",
    "        )\n",
    "        output_diff = delta_e_lst[min_diff]\n",
    "\n",
    "    # match color to reduced list:\n",
    "    if merge_color:\n",
    "        for reduced_key, reduced_color_sub_list in get_color_table().items():\n",
    "            if (\n",
    "                str(output_color).lower()\n",
    "                in str(reduced_color_sub_list[\"ColorName\"]).lower()\n",
    "            ):\n",
    "                output_color = reduced_key\n",
    "                break\n",
    "\n",
    "    return output_color, output_diff"
   ]
  },
  {
   "cell_type": "code",
   "execution_count": null,
   "metadata": {},
   "outputs": [],
   "source": [
    "def merge_color_dict(old_color_dict, new_color, merge_color=True):\n",
    "    old_rgb = old_color_dict[\"color_mean\"]\n",
    "    new_rgb = new_color.rgb\n",
    "\n",
    "    old_percent = old_color_dict[\"percentage\"]\n",
    "    new_percent = new_color.proportion\n",
    "\n",
    "    merged_rgb = np.average(\n",
    "        [old_rgb, new_rgb], axis=0, weights=[old_percent, new_percent]\n",
    "    ).astype(int)\n",
    "    merged_name, merged_difference = rgb2name(merged_rgb, merge_color=merge_color)\n",
    "\n",
    "    merged_percent = old_percent + new_percent\n",
    "    output_color_dict = {\n",
    "        \"color_mean\": merged_rgb,\n",
    "        \"hex_mean\": webcolors.rgb_to_hex(merged_rgb),\n",
    "        \"label\": merged_name + f\" {round(merged_percent,2)}\",\n",
    "        \"color_name\": merged_name,\n",
    "        \"color_name_old\": old_color_dict[\"color_name\"],\n",
    "        \"distance_from_rgb_label\": merged_difference,\n",
    "        \"percentage\": merged_percent,\n",
    "    }\n",
    "    return output_color_dict"
   ]
  },
  {
   "cell_type": "code",
   "execution_count": null,
   "metadata": {},
   "outputs": [],
   "source": [
    "n_cluster = 20\n",
    "\n",
    "\n",
    "def analyze_image(image_path, n_extract=10, merge_color=True, input_dict=None):\n",
    "    colors = colorgram.extract(image_path, n_extract)\n",
    "    if input_dict is None:\n",
    "        output_dict = {}\n",
    "    else:\n",
    "        output_dict = input_dict\n",
    "\n",
    "    # average color in each bin and save bin length\n",
    "    for color in colors:\n",
    "        if color.proportion > 0.01:\n",
    "            rgb_name, rgb_difference = rgb2name(color.rgb, merge_color=merge_color)\n",
    "            label = f\"{rgb_name}\"\n",
    "\n",
    "            # if color is already present in dict, merge the new into the old.\n",
    "\n",
    "            if label in output_dict.keys():\n",
    "                output_dict[label] = merge_color_dict(output_dict[label], color)\n",
    "\n",
    "            else:\n",
    "                output_dict[label] = {\n",
    "                    \"color_mean\": color.rgb,\n",
    "                    \"hex_mean\": webcolors.rgb_to_hex(color.rgb),\n",
    "                    \"label\": label + f\" {round(color.proportion,2)}\",\n",
    "                    \"color_name\": rgb_name,\n",
    "                    \"distance_from_rgb_label\": rgb_difference,\n",
    "                    \"percentage\": color.proportion,\n",
    "                }\n",
    "\n",
    "    df = pd.DataFrame(output_dict)\n",
    "    df = df.reindex(sorted(df.columns), axis=1)\n",
    "\n",
    "    return df"
   ]
  },
  {
   "cell_type": "code",
   "execution_count": null,
   "metadata": {},
   "outputs": [],
   "source": [
    "def analyze_images(file_list, n_extract=10, merge_color=True):\n",
    "    output_dict = {}\n",
    "    for file in file_list:\n",
    "        output_dict = analyze_image(\n",
    "            file, n_extract=n_extract, merge_color=merge_color, input_dict=output_dict\n",
    "        )\n",
    "    df = pd.DataFrame(output_dict)\n",
    "    df = df.reindex(sorted(df.columns), axis=1)\n",
    "    return df"
   ]
  },
  {
   "cell_type": "code",
   "execution_count": null,
   "metadata": {},
   "outputs": [],
   "source": [
    "def show_piechart(df, n_max=-1):\n",
    "    if n_max == -1:\n",
    "        n_max = len(df.T)\n",
    "\n",
    "    df = df.T.sort_values(by=\"percentage\", ascending=False).head(n_max)\n",
    "\n",
    "    color_map = {\n",
    "        color: hex_mean for color, hex_mean in zip(df[\"label\"], df[\"hex_mean\"])\n",
    "    }\n",
    "    fig = px.pie(\n",
    "        df,\n",
    "        values=\"percentage\",\n",
    "        names=\"label\",\n",
    "        title=\"Color analysis\",\n",
    "        color=\"label\",\n",
    "        color_discrete_map=color_map,\n",
    "        hole=0.3,\n",
    "    )\n",
    "    fig.show()\n"
   ]
  },
  {
   "cell_type": "code",
   "execution_count": null,
   "metadata": {},
   "outputs": [],
   "source": [
    "image_path = \"../../documents-export-2023-04-27/images-text/104646S_fra.png\"\n",
    "\n",
    "\n",
    "image = cv2.imread(image_path)\n",
    "# BGR-->RGB cv to matplotlib show\n",
    "image = cv2.cvtColor(image, cv2.COLOR_BGR2RGB)\n",
    "plt.imshow(image)\n"
   ]
  },
  {
   "cell_type": "code",
   "execution_count": null,
   "metadata": {},
   "outputs": [],
   "source": [
    "df = analyze_image(image_path, 10)\n",
    "show_piechart(df)\n"
   ]
  },
  {
   "cell_type": "code",
   "execution_count": null,
   "metadata": {},
   "outputs": [],
   "source": [
    "image_paths = [\n",
    "    \"../../documents-export-2023-04-27/images-text/104646S_fra.png\",\n",
    "    \"../../france-in-pictures-beautiful-places-to-photograph-calanques-national-park.jpg\",\n",
    "]\n",
    "\n",
    "image1 = cv2.imread(image_paths[0])\n",
    "# BGR-->RGB cv to matplotlib show\n",
    "image1 = cv2.cvtColor(image1, cv2.COLOR_BGR2RGB)\n",
    "\n",
    "image2 = cv2.imread(image_paths[1])\n",
    "# BGR-->RGB cv to matplotlib show\n",
    "image2 = cv2.cvtColor(image2, cv2.COLOR_BGR2RGB)"
   ]
  },
  {
   "cell_type": "code",
   "execution_count": null,
   "metadata": {},
   "outputs": [],
   "source": [
    "plt.imshow(image1)\n"
   ]
  },
  {
   "cell_type": "code",
   "execution_count": null,
   "metadata": {},
   "outputs": [],
   "source": [
    "plt.imshow(image2)\n"
   ]
  },
  {
   "cell_type": "code",
   "execution_count": null,
   "metadata": {},
   "outputs": [],
   "source": [
    "import glob\n",
    "\n",
    "file_list = glob.glob(\"../../documents-export-2023-04-27/images-text/*.png\")\n",
    "\n",
    "df2 = analyze_images(file_list, merge_color=True)\n",
    "show_piechart(df2)"
   ]
  },
  {
   "cell_type": "code",
   "execution_count": null,
   "metadata": {},
   "outputs": [],
   "source": [
    "df2\n"
   ]
  },
  {
   "cell_type": "code",
   "execution_count": null,
   "metadata": {},
   "outputs": [],
   "source": [
    "df2.loc[\"color_name\"]\n"
   ]
  },
  {
   "cell_type": "code",
   "execution_count": null,
   "metadata": {},
   "outputs": [],
   "source": []
  }
 ],
 "metadata": {
  "kernelspec": {
   "display_name": "Python 3",
   "language": "python",
   "name": "python3"
  },
  "language_info": {
   "codemirror_mode": {
    "name": "ipython",
    "version": 3
   },
   "file_extension": ".py",
   "mimetype": "text/x-python",
   "name": "python",
   "nbconvert_exporter": "python",
   "pygments_lexer": "ipython3",
   "version": "3.10.11"
  }
 },
 "nbformat": 4,
 "nbformat_minor": 2
}
