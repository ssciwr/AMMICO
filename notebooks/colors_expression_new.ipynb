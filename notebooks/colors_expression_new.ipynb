{
 "cells": [
  {
   "cell_type": "markdown",
   "metadata": {},
   "source": [
    "This notebook shows primary color analysis of color image using K-Means algorithm.\n",
    "The output are N primary colors and their corresponding percentage."
   ]
  },
  {
   "cell_type": "code",
   "execution_count": null,
   "metadata": {},
   "outputs": [],
   "source": [
    "import matplotlib.pyplot as plt\n",
    "import cv2\n",
    "import numpy as np\n",
    "\n",
    "import webcolors\n",
    "from sklearn.metrics import mean_squared_error\n",
    "import pandas as pd\n",
    "import plotly.express as px\n",
    "import colorgram"
   ]
  },
  {
   "cell_type": "code",
   "execution_count": null,
   "metadata": {},
   "outputs": [],
   "source": [
    "def rgb2name(c):\n",
    "    h_color = \"#{:02x}{:02x}{:02x}\".format(int(c[0]), int(c[1]), int(c[2]))\n",
    "    try:\n",
    "        nm = webcolors.hex_to_name(h_color, spec=\"css3\")\n",
    "    except ValueError:\n",
    "        rms_lst = []\n",
    "        for img_clr, img_hex in webcolors.CSS3_NAMES_TO_HEX.items():\n",
    "            cur_clr = webcolors.hex_to_rgb(img_hex)\n",
    "            rmse = np.sqrt(mean_squared_error(c, cur_clr))\n",
    "            rms_lst.append(rmse)\n",
    "\n",
    "        closest_color = rms_lst.index(min(rms_lst))\n",
    "\n",
    "        nm = list(webcolors.CSS3_NAMES_TO_HEX.items())[closest_color][0]\n",
    "    return nm"
   ]
  },
  {
   "cell_type": "code",
   "execution_count": null,
   "metadata": {},
   "outputs": [],
   "source": [
    "n_cluster = 20\n",
    "\n",
    "\n",
    "def analyze_image(image_path, n_extract=10):\n",
    "    colors = colorgram.extract(image_path, n_extract)\n",
    "    output_dict = {}\n",
    "    # average color in each bin and save bin length\n",
    "    for color in colors:\n",
    "        label = f\"{rgb2name(color.rgb)} ({color.rgb})\"\n",
    "        output_dict[label] = {\n",
    "            \"color_mean\": color.rgb,\n",
    "            \"hex_mean\": webcolors.rgb_to_hex(color.rgb),\n",
    "            \"label\": label + f\" {round(color.proportion,2)}\",\n",
    "            \"color_name\": rgb2name(color.rgb),\n",
    "            \"bin_length\": color.proportion,\n",
    "            \"percentage\": color.proportion,\n",
    "        }\n",
    "\n",
    "    df = pd.DataFrame(output_dict)\n",
    "    df = df.reindex(sorted(df.columns), axis=1)\n",
    "    return df"
   ]
  },
  {
   "cell_type": "code",
   "execution_count": null,
   "metadata": {},
   "outputs": [],
   "source": [
    "def show_piechart(df, n_max=-1):\n",
    "    if n_max == -1:\n",
    "        n_max = len(df.T)\n",
    "\n",
    "    df = df.T.sort_values(by=\"bin_length\", ascending=False).head(n_max)\n",
    "\n",
    "    color_map = {\n",
    "        color: hex_mean for color, hex_mean in zip(df[\"label\"], df[\"hex_mean\"])\n",
    "    }\n",
    "    fig = px.pie(\n",
    "        df,\n",
    "        values=\"bin_length\",\n",
    "        names=\"label\",\n",
    "        title=\"Color analysis\",\n",
    "        color=\"label\",\n",
    "        color_discrete_map=color_map,\n",
    "        hole=0.3,\n",
    "    )\n",
    "    fig.show()"
   ]
  },
  {
   "cell_type": "code",
   "execution_count": null,
   "metadata": {},
   "outputs": [],
   "source": [
    "image_path = \"../../documents-export-2023-04-27/images/102435S_2_eng.png\"\n",
    "\n",
    "\n",
    "image = cv2.imread(image_path)\n",
    "# BGR-->RGB cv to matplotlib show\n",
    "image = cv2.cvtColor(image, cv2.COLOR_BGR2RGB)\n",
    "plt.imshow(image)"
   ]
  },
  {
   "cell_type": "code",
   "execution_count": null,
   "metadata": {},
   "outputs": [],
   "source": [
    "df = analyze_image(image_path, 10)\n",
    "show_piechart(df)"
   ]
  },
  {
   "cell_type": "code",
   "execution_count": null,
   "metadata": {},
   "outputs": [],
   "source": [
    "df"
   ]
  },
  {
   "cell_type": "code",
   "execution_count": null,
   "metadata": {},
   "outputs": [],
   "source": []
  }
 ],
 "metadata": {
  "kernelspec": {
   "display_name": "Python 3",
   "language": "python",
   "name": "python3"
  },
  "language_info": {
   "codemirror_mode": {
    "name": "ipython",
    "version": 3
   },
   "file_extension": ".py",
   "mimetype": "text/x-python",
   "name": "python",
   "nbconvert_exporter": "python",
   "pygments_lexer": "ipython3",
   "version": "3.10.11"
  }
 },
 "nbformat": 4,
 "nbformat_minor": 2
}
