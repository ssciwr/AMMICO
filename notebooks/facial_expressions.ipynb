{
 "cells": [
  {
   "cell_type": "markdown",
   "id": "d2c4d40d-8aca-4024-8d19-a65c4efe825d",
   "metadata": {},
   "source": [
    "# Facial Expression recognition with DeepFace"
   ]
  },
  {
   "cell_type": "markdown",
   "id": "51f8888b-d1a3-4b85-a596-95c0993fa192",
   "metadata": {},
   "source": [
    "This notebooks shows some preliminary work on detecting facial expressions with DeepFace. It is mainly meant to explore its capabilities and to decide on future research directions. We package our code into a `misinformation` package that is imported here:"
   ]
  },
  {
   "cell_type": "code",
   "execution_count": null,
   "id": "b21e52a5-d379-42db-aae6-f2ab9ed9a369",
   "metadata": {},
   "outputs": [],
   "source": [
    "import misinformation"
   ]
  },
  {
   "cell_type": "markdown",
   "id": "a2bd2153",
   "metadata": {},
   "source": [
    "We select a subset of image files to try facial expression detection on. The `find_files` function finds image files within a given directory:"
   ]
  },
  {
   "cell_type": "code",
   "execution_count": null,
   "id": "afe7e638-f09d-47e7-9295-1c374bd64c53",
   "metadata": {},
   "outputs": [],
   "source": [
    "images = misinformation.find_files(limit=1000)"
   ]
  },
  {
   "cell_type": "markdown",
   "id": "e149bfe5-90b0-49b2-af3d-688e41aab019",
   "metadata": {},
   "source": [
    "If you want to fine tune the discovery of image files, you can provide more parameters:"
   ]
  },
  {
   "cell_type": "code",
   "execution_count": null,
   "id": "f38bb8ed-1004-4e33-8ed6-793cb5869400",
   "metadata": {},
   "outputs": [],
   "source": [
    "?misinformation.find_files"
   ]
  },
  {
   "cell_type": "markdown",
   "id": "d8067ad1-ef8a-4e91-bcc6-f8dbef771854",
   "metadata": {},
   "source": [
    "Next, we display the face recognition results provided by the DeepFace library. Click on the tabs to see the results in the right sidebar:"
   ]
  },
  {
   "cell_type": "code",
   "execution_count": null,
   "id": "992499ed-33f1-4425-ad5d-738cf565d175",
   "metadata": {},
   "outputs": [],
   "source": [
    "misinformation.explore_analysis(images, identify=\"faces\")"
   ]
  },
  {
   "cell_type": "code",
   "execution_count": null,
   "id": "b99f3f1d",
   "metadata": {},
   "outputs": [],
   "source": []
  }
 ],
 "metadata": {
  "kernelspec": {
   "display_name": "Python 3 (ipykernel)",
   "language": "python",
   "name": "python3"
  },
  "language_info": {
   "codemirror_mode": {
    "name": "ipython",
    "version": 3
   },
   "file_extension": ".py",
   "mimetype": "text/x-python",
   "name": "python",
   "nbconvert_exporter": "python",
   "pygments_lexer": "ipython3",
   "version": "3.10.4"
  }
 },
 "nbformat": 4,
 "nbformat_minor": 5
}
