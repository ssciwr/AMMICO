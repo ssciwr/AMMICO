{
 "cells": [
  {
   "attachments": {},
   "cell_type": "markdown",
   "id": "b25986d7",
   "metadata": {},
   "source": [
    "# Crop posts from social media posts images"
   ]
  },
  {
   "attachments": {},
   "cell_type": "markdown",
   "id": "c8a5a491",
   "metadata": {},
   "source": [
    "Crop posts from social media posts images, to keep import text informations from social media posts images.\n",
    "We can set some manually cropped views from social media posts as reference for cropping the same type social media posts images."
   ]
  },
  {
   "cell_type": "code",
   "execution_count": null,
   "id": "70ffb7e2",
   "metadata": {},
   "outputs": [],
   "source": [
    "# Please ignore this cell: extra install steps that are only executed when running the notebook on Google Colab\n",
    "# flake8-noqa-cell\n",
    "import os\n",
    "if 'google.colab' in str(get_ipython()):\n",
    "    # we're running on colab\n",
    "    # first install pinned version of setuptools (latest version doesn't seem to work with this package on colab)\n",
    "    %pip install setuptools==61 -qqq\n",
    "    # install the moralization package\n",
    "    %pip install git+https://github.com/ssciwr/AMMICO.git -qqq\n",
    "\n",
    "    # prevent loading of the wrong opencv library\n",
    "    %pip uninstall -y opencv-contrib-python\n",
    "    %pip install opencv-contrib-python\n",
    "\n",
    "    from google.colab import drive\n",
    "    drive.mount('/content/drive')\n",
    "\n",
    "    if not os.path.isdir('/content/ref'):\n",
    "      !wget https://github.com/ssciwr/AMMICO/archive/refs/heads/ref-data.zip -q\n",
    "      !unzip -qq ref-data.zip -d . && mv -f AMMICO-ref-data/data/ref . && rm -rf AMMICO-ref-data ref-data.zip"
   ]
  },
  {
   "cell_type": "code",
   "execution_count": null,
   "id": "5ae02c45",
   "metadata": {},
   "outputs": [],
   "source": [
    "import ammico.cropposts as crpo\n",
    "import numpy as np\n",
    "import matplotlib.pyplot as plt\n",
    "import cv2"
   ]
  },
  {
   "cell_type": "code",
   "execution_count": null,
   "id": "d04d0e86",
   "metadata": {},
   "outputs": [],
   "source": [
    "# load ref view for cropping the same type social media posts images.\n",
    "ref_view = cv2.imread(\"../data/ref/ref-00.png\")\n",
    "RGB_ref_view = cv2.cvtColor(ref_view, cv2.COLOR_BGR2RGB)\n",
    "plt.figure(figsize=(10, 15))\n",
    "plt.imshow(RGB_ref_view)\n",
    "plt.show()\n",
    "\n",
    "view = cv2.imread(\"../data/test-debug/examples cropped/examples original/100123_ara.png\")\n",
    "RGB_view = cv2.cvtColor(view, cv2.COLOR_BGR2RGB)\n",
    "plt.figure(figsize=(10, 15))\n",
    "plt.imshow(RGB_view)\n",
    "plt.show()"
   ]
  },
  {
   "cell_type": "code",
   "execution_count": null,
   "id": "71850d9d",
   "metadata": {},
   "outputs": [],
   "source": [
    "# crop a posts from reference view, set plt_match=True, plt_crop=True\n",
    "crop_view, match_num = crpo.crop_posts_image(\n",
    "    ref_view, view, plt_match=True, plt_crop=True\n",
    ")\n",
    "\n",
    "# save cropped images\n",
    "cv2.imwrite(\"y_100123_ara.png\", crop_view)"
   ]
  },
  {
   "cell_type": "code",
   "execution_count": null,
   "id": "67fc7b82",
   "metadata": {},
   "outputs": [],
   "source": [
    "view2 = cv2.imread(\"y_100123_ara.png\")\n",
    "plt.figure(figsize=(10, 15))\n",
    "plt.imshow(cv2.cvtColor(view2, cv2.COLOR_BGR2RGB))\n",
    "plt.show()"
   ]
  },
  {
   "cell_type": "code",
   "execution_count": null,
   "id": "eef89291",
   "metadata": {},
   "outputs": [],
   "source": [
    "# Batch crop images from image folders.\n",
    "# The cropped images will save in save_crop_dir folders with the same file name form origin.\n",
    "# We can set many types reference images in ref_dir folder, to crop posts images in different types social media, like twitter or facebook.\n",
    "ref_dir = \"../data/ref\"\n",
    "crop_dir = \"/home/iulusoy/projects/misinformation-project/AMMICO/data/test-debug/examples cropped/examples original/\"\n",
    "crop_dir = \"../../misinformation-notes/data/all_disinformation_posts/all_posts/apsa22/\"\n",
    "\n",
    "save_crop_dir = \"../data/crop/\"\n",
    "crpo.crop_posts_from_files(\n",
    "    ref_dir, crop_dir, save_crop_dir, plt_match=False, plt_crop=False\n",
    ")\n",
    "\n",
    "print(\"Batch cropping images done\")"
   ]
  },
  {
   "cell_type": "code",
   "execution_count": null,
   "id": "c10d9f6f",
   "metadata": {},
   "outputs": [],
   "source": []
  }
 ],
 "metadata": {
  "kernelspec": {
   "display_name": "Python 3 (ipykernel)",
   "language": "python",
   "name": "python3"
  },
  "language_info": {
   "codemirror_mode": {
    "name": "ipython",
    "version": 3
   },
   "file_extension": ".py",
   "mimetype": "text/x-python",
   "name": "python",
   "nbconvert_exporter": "python",
   "pygments_lexer": "ipython3",
   "version": "3.9.16"
  }
 },
 "nbformat": 4,
 "nbformat_minor": 5
}
