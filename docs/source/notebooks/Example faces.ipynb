{
 "cells": [
  {
   "cell_type": "markdown",
   "id": "d2c4d40d-8aca-4024-8d19-a65c4efe825d",
   "metadata": {},
   "source": [
    "# Facial Expression recognition with DeepFace"
   ]
  },
  {
   "attachments": {},
   "cell_type": "markdown",
   "id": "51f8888b-d1a3-4b85-a596-95c0993fa192",
   "metadata": {},
   "source": [
    "This notebooks shows some preliminary work on detecting facial expressions with DeepFace. It is mainly meant to explore its capabilities and to decide on future research directions. We package our code into a `ammico` package that is imported here:"
   ]
  },
  {
   "cell_type": "code",
   "execution_count": null,
   "id": "b21e52a5-d379-42db-aae6-f2ab9ed9a369",
   "metadata": {
    "tags": []
   },
   "outputs": [],
   "source": [
    "import ammico\n",
    "from ammico import utils as mutils\n",
    "from ammico import display as mdisplay"
   ]
  },
  {
   "cell_type": "markdown",
   "id": "a2bd2153",
   "metadata": {},
   "source": [
    "We select a subset of image files to try facial expression detection on. The `find_files` function finds image files within a given directory:"
   ]
  },
  {
   "cell_type": "code",
   "execution_count": null,
   "id": "afe7e638-f09d-47e7-9295-1c374bd64c53",
   "metadata": {
    "tags": []
   },
   "outputs": [],
   "source": [
    "images = mutils.find_files(\n",
    "    path=\"data/\",\n",
    "    limit=10,\n",
    ")"
   ]
  },
  {
   "cell_type": "markdown",
   "id": "e149bfe5-90b0-49b2-af3d-688e41aab019",
   "metadata": {},
   "source": [
    "If you want to fine tune the discovery of image files, you can provide more parameters:"
   ]
  },
  {
   "cell_type": "code",
   "execution_count": null,
   "id": "f38bb8ed-1004-4e33-8ed6-793cb5869400",
   "metadata": {},
   "outputs": [],
   "source": [
    "?mutils.find_files"
   ]
  },
  {
   "cell_type": "markdown",
   "id": "705e7328",
   "metadata": {},
   "source": [
    "We need to initialize the main dictionary that contains all information for the images and is updated through each subsequent analysis:"
   ]
  },
  {
   "cell_type": "code",
   "execution_count": null,
   "id": "b37c0c91",
   "metadata": {
    "tags": []
   },
   "outputs": [],
   "source": [
    "mydict = mutils.initialize_dict(images)"
   ]
  },
  {
   "cell_type": "markdown",
   "id": "a9372561",
   "metadata": {},
   "source": [
    "To check the analysis, you can inspect the analyzed elements here. Loading the results takes a moment, so please be patient. If you are sure of what you are doing, you can skip this and directly export a csv file in the step below.\n",
    "Here, we display the face recognition results provided by the DeepFace library. Click on the tabs to see the results in the right sidebar:"
   ]
  },
  {
   "cell_type": "code",
   "execution_count": null,
   "id": "992499ed-33f1-4425-ad5d-738cf565d175",
   "metadata": {
    "tags": []
   },
   "outputs": [],
   "source": [
    "mdisplay.explore_analysis(mydict, identify=\"faces\")"
   ]
  },
  {
   "cell_type": "markdown",
   "id": "6f974341",
   "metadata": {},
   "source": [
    "Directly carry out the analysis and export the result into a csv: Analysis - "
   ]
  },
  {
   "cell_type": "code",
   "execution_count": null,
   "id": "6f97c7d0",
   "metadata": {
    "tags": []
   },
   "outputs": [],
   "source": [
    "for key in mydict.keys():\n",
    "    mydict[key] = ammico.faces.EmotionDetector(mydict[key]).analyse_image()"
   ]
  },
  {
   "cell_type": "markdown",
   "id": "174357b1",
   "metadata": {},
   "source": [
    "Convert the dictionary of dictionarys into a dictionary with lists:"
   ]
  },
  {
   "cell_type": "code",
   "execution_count": null,
   "id": "604bd257",
   "metadata": {
    "tags": []
   },
   "outputs": [],
   "source": [
    "outdict = mutils.append_data_to_dict(mydict)\n",
    "df = mutils.dump_df(outdict)"
   ]
  },
  {
   "cell_type": "markdown",
   "id": "8373d9f8",
   "metadata": {},
   "source": [
    "Check the dataframe:"
   ]
  },
  {
   "cell_type": "code",
   "execution_count": null,
   "id": "aa4b518a",
   "metadata": {
    "tags": []
   },
   "outputs": [],
   "source": [
    "df.head(10)"
   ]
  },
  {
   "cell_type": "markdown",
   "id": "579cd59f",
   "metadata": {},
   "source": [
    "Write the csv file:"
   ]
  },
  {
   "cell_type": "code",
   "execution_count": null,
   "id": "4618decb",
   "metadata": {
    "tags": []
   },
   "outputs": [],
   "source": [
    "df.to_csv(\"data/data_out.csv\")"
   ]
  },
  {
   "cell_type": "code",
   "execution_count": null,
   "id": "b1a80023",
   "metadata": {},
   "outputs": [],
   "source": []
  }
 ],
 "metadata": {
  "kernelspec": {
   "display_name": "Python 3",
   "language": "python",
   "name": "python3"
  },
  "language_info": {
   "codemirror_mode": {
    "name": "ipython",
    "version": 3
   },
   "file_extension": ".py",
   "mimetype": "text/x-python",
   "name": "python",
   "nbconvert_exporter": "python",
   "pygments_lexer": "ipython3",
   "version": "3.9.16"
  },
  "vscode": {
   "interpreter": {
    "hash": "da98320027a74839c7141b42ef24e2d47d628ba1f51115c13da5d8b45a372ec2"
   }
  }
 },
 "nbformat": 4,
 "nbformat_minor": 5
}
